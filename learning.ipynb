{
 "cells": [
  {
   "cell_type": "code",
   "execution_count": 12,
   "metadata": {},
   "outputs": [],
   "source": [
    "import os\n",
    "from urllib.parse import urlparse\n",
    "import urllib.request as request\n",
    "Calce_source_URL =  \"https://www.kaggle.com/datasets/harpree/calce-battery-data/download?datasetVersionNumber=1\"\n",
    "\n",
    "parts = Calce_source_URL.split(\"_\")"
   ]
  },
  {
   "cell_type": "code",
   "execution_count": 21,
   "metadata": {},
   "outputs": [
    {
     "name": "stdout",
     "output_type": "stream",
     "text": [
      "['true', 'false']\n"
     ]
    }
   ],
   "source": [
    "train_names = {'ABC': ['yes', 'no'], 'CDF': ['true', 'false']}\n",
    "training_dataset = 'CDF'\n",
    "\n",
    "# Check if the training_dataset is a key in train_names\n",
    "if training_dataset in train_names:\n",
    "    train_entry = train_names[training_dataset]\n",
    "    # Now train_entry is the list ['yes', 'no']\n",
    "    # If you want to convert it to a list, you can do that directly\n",
    "    train_names_list = list(train_entry)\n",
    "    print(train_names_list)\n",
    "else:\n",
    "    print(f\"{training_dataset} not found in train_names\")"
   ]
  },
  {
   "cell_type": "code",
   "execution_count": 30,
   "metadata": {},
   "outputs": [
    {
     "name": "stdout",
     "output_type": "stream",
     "text": [
      "{'CDF': ['true', 'false'], 'ABC': ['yes', 'no']}\n"
     ]
    }
   ],
   "source": []
  },
  {
   "cell_type": "code",
   "execution_count": 4,
   "metadata": {},
   "outputs": [
    {
     "name": "stdout",
     "output_type": "stream",
     "text": [
      "['\\\\Train\\\\TBJDST_050']\n"
     ]
    }
   ],
   "source": [
    "from box import ConfigBox\n",
    "from box import Box, BoxList\n",
    "train_names = {'ABC': ['yes', 'no'], 'Calce': ['\\\\Train\\\\TBJDST_050']}\n",
    "training_datasets = ['CDF', 'Calce']\n",
    "\n",
    "result_dict = {dataset: train_names.get(dataset, f\"{dataset} not found in train_names\") for dataset in training_datasets}\n",
    "\n",
    "d2 = ConfigBox(result_dict)\n",
    "\n",
    "# Access the value associated with 'CDF' using dot notation\n",
    "print(d2.Calce)\n"
   ]
  },
  {
   "cell_type": "code",
   "execution_count": 3,
   "metadata": {},
   "outputs": [
    {
     "ename": "NameError",
     "evalue": "name 'params' is not defined",
     "output_type": "error",
     "traceback": [
      "\u001b[1;31m---------------------------------------------------------------------------\u001b[0m",
      "\u001b[1;31mNameError\u001b[0m                                 Traceback (most recent call last)",
      "\u001b[1;32mc:\\Users\\Harpreet Singh\\Documents\\Machine Learning\\TransferLearning_SOC\\learning.ipynb Cell 5\u001b[0m line \u001b[0;36m1\n\u001b[1;32m----> <a href='vscode-notebook-cell:/c%3A/Users/Harpreet%20Singh/Documents/Machine%20Learning/TransferLearning_SOC/learning.ipynb#W4sZmlsZQ%3D%3D?line=0'>1</a>\u001b[0m filtered_dictionary \u001b[39m=\u001b[39m {dataset: config\u001b[39m.\u001b[39mtrain_names_dictionary\u001b[39m.\u001b[39mget(dataset, \u001b[39mf\u001b[39m\u001b[39m\"\u001b[39m\u001b[39m{\u001b[39;00mdataset\u001b[39m}\u001b[39;00m\u001b[39m not found in train_names\u001b[39m\u001b[39m\"\u001b[39m) \u001b[39mfor\u001b[39;00m dataset \u001b[39min\u001b[39;00m params\u001b[39m.\u001b[39mtraining_datasets}\n",
      "\u001b[1;31mNameError\u001b[0m: name 'params' is not defined"
     ]
    }
   ],
   "source": []
  }
 ],
 "metadata": {
  "kernelspec": {
   "display_name": "Python 3",
   "language": "python",
   "name": "python3"
  },
  "language_info": {
   "codemirror_mode": {
    "name": "ipython",
    "version": 3
   },
   "file_extension": ".py",
   "mimetype": "text/x-python",
   "name": "python",
   "nbconvert_exporter": "python",
   "pygments_lexer": "ipython3",
   "version": "3.8.10"
  }
 },
 "nbformat": 4,
 "nbformat_minor": 2
}
