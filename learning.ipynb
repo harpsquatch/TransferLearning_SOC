{
 "cells": [
  {
   "cell_type": "code",
   "execution_count": 12,
   "metadata": {},
   "outputs": [],
   "source": [
    "import os\n",
    "from urllib.parse import urlparse\n",
    "import urllib.request as request\n",
    "Calce_source_URL =  \"https://www.kaggle.com/datasets/harpree/calce-battery-data/download?datasetVersionNumber=1\"\n",
    "\n",
    "parts = Calce_source_URL.split(\"_\")"
   ]
  },
  {
   "cell_type": "code",
   "execution_count": 21,
   "metadata": {},
   "outputs": [
    {
     "name": "stdout",
     "output_type": "stream",
     "text": [
      "['true', 'false']\n"
     ]
    }
   ],
   "source": [
    "train_names = {'ABC': ['yes', 'no'], 'CDF': ['true', 'false']}\n",
    "training_dataset = 'CDF'\n",
    "\n",
    "# Check if the training_dataset is a key in train_names\n",
    "if training_dataset in train_names:\n",
    "    train_entry = train_names[training_dataset]\n",
    "    # Now train_entry is the list ['yes', 'no']\n",
    "    # If you want to convert it to a list, you can do that directly\n",
    "    train_names_list = list(train_entry)\n",
    "    print(train_names_list)\n",
    "else:\n",
    "    print(f\"{training_dataset} not found in train_names\")"
   ]
  },
  {
   "cell_type": "code",
   "execution_count": 30,
   "metadata": {},
   "outputs": [
    {
     "name": "stdout",
     "output_type": "stream",
     "text": [
      "{'CDF': ['true', 'false'], 'ABC': ['yes', 'no']}\n"
     ]
    }
   ],
   "source": []
  },
  {
   "cell_type": "code",
   "execution_count": 4,
   "metadata": {},
   "outputs": [
    {
     "name": "stdout",
     "output_type": "stream",
     "text": [
      "['\\\\Train\\\\TBJDST_050']\n"
     ]
    }
   ],
   "source": [
    "from box import ConfigBox\n",
    "from box import Box, BoxList\n",
    "train_names = {'ABC': ['yes', 'no'], 'Calce': ['\\\\Train\\\\TBJDST_050']}\n",
    "training_datasets = ['CDF', 'Calce']\n",
    "\n",
    "result_dict = {dataset: train_names.get(dataset, f\"{dataset} not found in train_names\") for dataset in training_datasets}\n",
    "\n",
    "d2 = ConfigBox(result_dict)\n",
    "\n",
    "# Access the value associated with 'CDF' using dot notation\n",
    "print(d2.Calce)\n"
   ]
  },
  {
   "cell_type": "code",
   "execution_count": 39,
   "metadata": {},
   "outputs": [],
   "source": [
    "source_model_name = ['modelCacle','modelLG']\n",
    "pretrained_model_path_dictionary =  {'modelCacle': 'artifacts/data_ingestion/CALCE', 'modelLG': 'artifacts/data_ingestion/LG'}\n",
    "filtered_dictionary = {model: pretrained_model_path_dictionary.get(model, f\"{model} not found in train_names\") for model in source_model_name}\n",
    "\n",
    "\n",
    "d2 = ConfigBox(filtered_dictionary)\n",
    "\n",
    "pretrained_model_path = [ ]\n",
    "for model_name in source_model_name:\n",
    "    model_path = getattr(d2, model_name, f\"{model_name} not found in ConfigBox\")\n",
    "    pretrained_model_path.append(model_path)"
   ]
  },
  {
   "cell_type": "code",
   "execution_count": 40,
   "metadata": {},
   "outputs": [
    {
     "data": {
      "text/plain": [
       "['artifacts/data_ingestion/CALCE', 'artifacts/data_ingestion/LG']"
      ]
     },
     "execution_count": 40,
     "metadata": {},
     "output_type": "execute_result"
    }
   ],
   "source": [
    "pretrained_model_path"
   ]
  },
  {
   "cell_type": "code",
   "execution_count": 3,
   "metadata": {},
   "outputs": [
    {
     "ename": "SyntaxError",
     "evalue": "invalid syntax (3748279519.py, line 2)",
     "output_type": "error",
     "traceback": [
      "\u001b[1;36m  Cell \u001b[1;32mIn[3], line 2\u001b[1;36m\u001b[0m\n\u001b[1;33m    result_with_time = '_'.join(['Madison', 'Nasa'])datetime.now().strftime('%d%m%Y_%H%M')\u001b[0m\n\u001b[1;37m                                                    ^\u001b[0m\n\u001b[1;31mSyntaxError\u001b[0m\u001b[1;31m:\u001b[0m invalid syntax\n"
     ]
    }
   ],
   "source": [
    "from datetime import datetime\n",
    "result_with_time = {'_'.join(['Madison', 'Nasa'])}_{datetime.now().strftime('%d%m%Y_%H%M')}\n",
    "result_with_time"
   ]
  },
  {
   "cell_type": "code",
   "execution_count": 1,
   "metadata": {},
   "outputs": [
    {
     "name": "stdout",
     "output_type": "stream",
     "text": [
      "Madison_17112023_2055_best\n"
     ]
    }
   ],
   "source": [
    "import os\n",
    "\n",
    "file_path = \"artifacts\\\\model_trainer\\\\Madison_17112023_2055\\\\trained_model\\\\Madison_17112023_2055_best.h5\"\n",
    "\n",
    "# Get the base filename without the extension\n",
    "base_filename = os.path.splitext(os.path.basename(file_path))[0]\n",
    "\n",
    "print(base_filename)"
   ]
  },
  {
   "cell_type": "code",
   "execution_count": null,
   "metadata": {},
   "outputs": [
    {
     "ename": "",
     "evalue": "",
     "output_type": "error",
     "traceback": [
      "\u001b[1;31mRunning cells with 'SOHEstimation' requires the ipykernel package.\n",
      "\u001b[1;31mRun the following command to install 'ipykernel' into the Python environment. \n",
      "\u001b[1;31mCommand: 'conda install -n SOHEstimation ipykernel --update-deps --force-reinstall'"
     ]
    }
   ],
   "source": []
  }
 ],
 "metadata": {
  "kernelspec": {
   "display_name": "Python 3",
   "language": "python",
   "name": "python3"
  },
  "language_info": {
   "codemirror_mode": {
    "name": "ipython",
    "version": 3
   },
   "file_extension": ".py",
   "mimetype": "text/x-python",
   "name": "python",
   "nbconvert_exporter": "python",
   "pygments_lexer": "ipython3",
   "version": "3.9.13"
  }
 },
 "nbformat": 4,
 "nbformat_minor": 2
}
