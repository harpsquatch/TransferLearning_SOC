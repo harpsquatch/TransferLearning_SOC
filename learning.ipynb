{
 "cells": [
  {
   "cell_type": "code",
   "execution_count": 12,
   "metadata": {},
   "outputs": [],
   "source": [
    "import os\n",
    "from urllib.parse import urlparse\n",
    "import urllib.request as request\n",
    "Calce_source_URL =  \"https://www.kaggle.com/datasets/harpree/calce-battery-data/download?datasetVersionNumber=1\"\n",
    "\n",
    "parts = Calce_source_URL.split(\"_\")"
   ]
  },
  {
   "cell_type": "code",
   "execution_count": 21,
   "metadata": {},
   "outputs": [
    {
     "name": "stdout",
     "output_type": "stream",
     "text": [
      "['true', 'false']\n"
     ]
    }
   ],
   "source": [
    "train_names = {'ABC': ['yes', 'no'], 'CDF': ['true', 'false']}\n",
    "training_dataset = 'CDF'\n",
    "\n",
    "# Check if the training_dataset is a key in train_names\n",
    "if training_dataset in train_names:\n",
    "    train_entry = train_names[training_dataset]\n",
    "    # Now train_entry is the list ['yes', 'no']\n",
    "    # If you want to convert it to a list, you can do that directly\n",
    "    train_names_list = list(train_entry)\n",
    "    print(train_names_list)\n",
    "else:\n",
    "    print(f\"{training_dataset} not found in train_names\")"
   ]
  },
  {
   "cell_type": "code",
   "execution_count": 30,
   "metadata": {},
   "outputs": [
    {
     "name": "stdout",
     "output_type": "stream",
     "text": [
      "{'CDF': ['true', 'false'], 'ABC': ['yes', 'no']}\n"
     ]
    }
   ],
   "source": []
  },
  {
   "cell_type": "code",
   "execution_count": 4,
   "metadata": {},
   "outputs": [
    {
     "name": "stdout",
     "output_type": "stream",
     "text": [
      "['\\\\Train\\\\TBJDST_050']\n"
     ]
    }
   ],
   "source": [
    "from box import ConfigBox\n",
    "from box import Box, BoxList\n",
    "train_names = {'ABC': ['yes', 'no'], 'Calce': ['\\\\Train\\\\TBJDST_050']}\n",
    "training_datasets = ['CDF', 'Calce']\n",
    "\n",
    "result_dict = {dataset: train_names.get(dataset, f\"{dataset} not found in train_names\") for dataset in training_datasets}\n",
    "\n",
    "d2 = ConfigBox(result_dict)\n",
    "\n",
    "# Access the value associated with 'CDF' using dot notation\n",
    "print(d2.Calce)\n"
   ]
  },
  {
   "cell_type": "code",
   "execution_count": 39,
   "metadata": {},
   "outputs": [],
   "source": [
    "source_model_name = ['modelCacle','modelLG']\n",
    "pretrained_model_path_dictionary =  {'modelCacle': 'artifacts/data_ingestion/CALCE', 'modelLG': 'artifacts/data_ingestion/LG'}\n",
    "filtered_dictionary = {model: pretrained_model_path_dictionary.get(model, f\"{model} not found in train_names\") for model in source_model_name}\n",
    "\n",
    "\n",
    "d2 = ConfigBox(filtered_dictionary)\n",
    "\n",
    "pretrained_model_path = [ ]\n",
    "for model_name in source_model_name:\n",
    "    model_path = getattr(d2, model_name, f\"{model_name} not found in ConfigBox\")\n",
    "    pretrained_model_path.append(model_path)"
   ]
  },
  {
   "cell_type": "code",
   "execution_count": 40,
   "metadata": {},
   "outputs": [
    {
     "data": {
      "text/plain": [
       "['artifacts/data_ingestion/CALCE', 'artifacts/data_ingestion/LG']"
      ]
     },
     "execution_count": 40,
     "metadata": {},
     "output_type": "execute_result"
    }
   ],
   "source": [
    "pretrained_model_path"
   ]
  },
  {
   "cell_type": "code",
   "execution_count": 3,
   "metadata": {},
   "outputs": [
    {
     "ename": "SyntaxError",
     "evalue": "invalid syntax (3748279519.py, line 2)",
     "output_type": "error",
     "traceback": [
      "\u001b[1;36m  Cell \u001b[1;32mIn[3], line 2\u001b[1;36m\u001b[0m\n\u001b[1;33m    result_with_time = '_'.join(['Madison', 'Nasa'])datetime.now().strftime('%d%m%Y_%H%M')\u001b[0m\n\u001b[1;37m                                                    ^\u001b[0m\n\u001b[1;31mSyntaxError\u001b[0m\u001b[1;31m:\u001b[0m invalid syntax\n"
     ]
    }
   ],
   "source": [
    "from datetime import datetime\n",
    "result_with_time = {'_'.join(['Madison', 'Nasa'])}_{datetime.now().strftime('%d%m%Y_%H%M')}\n",
    "result_with_time"
   ]
  },
  {
   "cell_type": "code",
   "execution_count": 1,
   "metadata": {},
   "outputs": [
    {
     "name": "stdout",
     "output_type": "stream",
     "text": [
      "Madison_17112023_2055_best\n"
     ]
    }
   ],
   "source": [
    "import os\n",
    "\n",
    "file_path = \"artifacts\\\\model_trainer\\\\Madison_17112023_2055\\\\trained_model\\\\Madison_17112023_2055_best.h5\"\n",
    "\n",
    "# Get the base filename without the extension\n",
    "base_filename = os.path.splitext(os.path.basename(file_path))[0]\n",
    "\n",
    "print(base_filename)"
   ]
  },
  {
   "cell_type": "code",
   "execution_count": 2,
   "metadata": {},
   "outputs": [],
   "source": [
    "A = ['03-18-17_02.17 25degC_Cycle_1_Pan18650PF','03-19-17_03.25 25degC_Cycle_2_Pan18650PF','03-19-17_09.07 25degC_Cycle_3_Pan18650PF','03-19-17_14.31 25degC_Cycle_4_Pan18650PF','03-20-17_01.43 25degC_US06_Pan18650PF','03-20-17_05.56 25degC_HWFTa_Pan18650PF','03-20-17_19.27 25degC_HWFTb_Pan18650PF','03-21-17_00.29 25degC_UDDS_Pan18650PF','03-21-17_09.38 25degC_LA92_Pan18650PF','03-21-17_16.27 25degC_NN_Pan18650PF','03-27-17_09.06 10degC_HWFET_Pan18650PF','03-27-17_09.06 10degC_LA92_Pan18650PF','03-27-17_09.06 10degC_NN_Pan18650PF','03-27-17_09.06 10degC_UDDS_Pan18650PF','03-27-17_09.06 10degC_US06_HWFET_UDDS_LA92_NN_Pan18650PF','03-27-17_09.06 10degC_US06_Pan18650PF','03-28-17_12.51 10degC_Cycle_1_Pan18650PF','03-28-17_18.18 10degC_Cycle_2_Pan18650PF','04-05-17_17.04 10degC_Cycle_3_Pan18650PF','04-05-17_22.50 10degC_Cycle_4_Pan18650PF','05-30-17_12.56 0degC_Cycle_1_Pan18650PF','05-30-17_20.16 0degC_Cycle_2_Pan18650PF','06-01-17_10.36 0degC_LA92_NN_Pan18650PF','06-01-17_10.36 0degC_LA92_Pan18650PF','06-01-17_10.36 0degC_NN_Pan18650PF','06-01-17_15.36 0degC_Cycle_3_Pan18650PF','06-01-17_22.03 0degC_Cycle_4_Pan18650PF','06-02-17_04.58 0degC_US06_Pan18650PF','06-02-17_10.43 0degC_HWFET_Pan18650PF','06-02-17_17.14 0degC_UDDS_Pan18650PF']\n",
    "B = ['06-07-17_08.39 n10degC_HWFET_Pan18650PF','06-07-17_08.39 n10degC_LA92_Pan18650PF','06-07-17_08.39 n10degC_UDDS_Pan18650PF','06-07-17_08.39 n10degC_US06_HWFET_UDDS_LA92_Pan18650PF','06-07-17_08.39 n10degC_US06_Pan18650PF','06-10-17_11.25 n10degC_Cycle_1_Pan18650PF','06-10-17_18.35 n10degC_Cycle_2_Pan18650PF','06-11-17_01.39 n10degC_Cycle_3_Pan18650PF','06-11-17_08.42 n10degC_Cycle_4_Pan18650PF','06-14-17_13.12 n10degC_NN_Pan18650PF','06-23-17_23.35 n20degC_HWFET_Pan18650PF','06-23-17_23.35 n20degC_HWFET_UDDS_LA92_NN_Pan18650PF','06-23-17_23.35 n20degC_LA92_Pan18650PF','06-23-17_23.35 n20degC_NN_Pan18650PF','06-23-17_23.35 n20degC_UDDS_Pan18650PF','06-24-17_04.29 n20degC_Cycle_1_Pan18650PF','06-24-17_11.58 n20degC_Cycle_2_Pan18650PF','06-24-17_19.29 n20degC_Cycle_3_Pan18650PF','06-25-17_03.01 n20degC_Cycle_4_Pan18650PF','06-25-17_10.31 n20degC_US06_Pan18650PF']"
   ]
  },
  {
   "cell_type": "code",
   "execution_count": 4,
   "metadata": {},
   "outputs": [
    {
     "name": "stdout",
     "output_type": "stream",
     "text": [
      "['03-27-17_09.06 10degC_US06_Pan18650PF', '03-27-17_09.06 10degC_LA92_Pan18650PF', '04-05-17_17.04 10degC_Cycle_3_Pan18650PF', '06-07-17_08.39 n10degC_UDDS_Pan18650PF', '06-10-17_11.25 n10degC_Cycle_1_Pan18650PF', '03-20-17_19.27 25degC_HWFTb_Pan18650PF', '06-02-17_17.14 0degC_UDDS_Pan18650PF', '06-14-17_13.12 n10degC_NN_Pan18650PF', '06-24-17_04.29 n20degC_Cycle_1_Pan18650PF', '06-23-17_23.35 n20degC_LA92_Pan18650PF', '06-23-17_23.35 n20degC_HWFET_UDDS_LA92_NN_Pan18650PF', '06-02-17_10.43 0degC_HWFET_Pan18650PF', '06-11-17_08.42 n10degC_Cycle_4_Pan18650PF', '03-20-17_01.43 25degC_US06_Pan18650PF', '06-24-17_11.58 n20degC_Cycle_2_Pan18650PF', '06-24-17_19.29 n20degC_Cycle_3_Pan18650PF', '06-07-17_08.39 n10degC_US06_HWFET_UDDS_LA92_Pan18650PF', '03-19-17_03.25 25degC_Cycle_2_Pan18650PF', '03-27-17_09.06 10degC_UDDS_Pan18650PF', '06-01-17_22.03 0degC_Cycle_4_Pan18650PF', '05-30-17_20.16 0degC_Cycle_2_Pan18650PF', '06-23-17_23.35 n20degC_UDDS_Pan18650PF', '03-21-17_00.29 25degC_UDDS_Pan18650PF', '03-21-17_16.27 25degC_NN_Pan18650PF', '06-01-17_10.36 0degC_NN_Pan18650PF', '03-28-17_12.51 10degC_Cycle_1_Pan18650PF', '03-28-17_18.18 10degC_Cycle_2_Pan18650PF', '03-27-17_09.06 10degC_HWFET_Pan18650PF', '06-01-17_10.36 0degC_LA92_NN_Pan18650PF', '06-07-17_08.39 n10degC_HWFET_Pan18650PF', '06-01-17_15.36 0degC_Cycle_3_Pan18650PF', '06-25-17_10.31 n20degC_US06_Pan18650PF', '06-07-17_08.39 n10degC_US06_Pan18650PF', '06-23-17_23.35 n20degC_NN_Pan18650PF', '05-30-17_12.56 0degC_Cycle_1_Pan18650PF', '06-02-17_04.58 0degC_US06_Pan18650PF', '03-20-17_05.56 25degC_HWFTa_Pan18650PF', '03-18-17_02.17 25degC_Cycle_1_Pan18650PF', '03-19-17_09.07 25degC_Cycle_3_Pan18650PF', '06-23-17_23.35 n20degC_HWFET_Pan18650PF', '04-05-17_22.50 10degC_Cycle_4_Pan18650PF', '06-07-17_08.39 n10degC_LA92_Pan18650PF', '06-01-17_10.36 0degC_LA92_Pan18650PF', '06-25-17_03.01 n20degC_Cycle_4_Pan18650PF', '03-21-17_09.38 25degC_LA92_Pan18650PF', '06-11-17_01.39 n10degC_Cycle_3_Pan18650PF', '03-27-17_09.06 10degC_NN_Pan18650PF', '03-27-17_09.06 10degC_US06_HWFET_UDDS_LA92_NN_Pan18650PF', '06-10-17_18.35 n10degC_Cycle_2_Pan18650PF', '03-19-17_14.31 25degC_Cycle_4_Pan18650PF']\n"
     ]
    }
   ],
   "source": [
    "import random\n",
    "\n",
    "combined_list = A + B\n",
    "random.shuffle(combined_list)\n",
    "\n",
    "# Print the shuffled list\n",
    "print(combined_list)"
   ]
  },
  {
   "cell_type": "code",
   "execution_count": 5,
   "metadata": {},
   "outputs": [
    {
     "name": "stdout",
     "output_type": "stream",
     "text": [
      "Train set length: 40\n",
      "Test set length: 10\n"
     ]
    }
   ],
   "source": [
    "from sklearn.model_selection import train_test_split\n",
    "\n",
    "# Assuming combined_list contains your shuffled data\n",
    "# Set the test size according to your needs, here it's set to 20%\n",
    "test_size = 0.2\n",
    "\n",
    "# Split the data into train and test sets\n",
    "train_set, test_set = train_test_split(combined_list, test_size=test_size, random_state=42)\n",
    "\n",
    "# Print the lengths of the train and test sets\n",
    "print(\"Train set length:\", len(train_set))\n",
    "print(\"Test set length:\", len(test_set))"
   ]
  },
  {
   "cell_type": "code",
   "execution_count": 10,
   "metadata": {},
   "outputs": [
    {
     "data": {
      "text/plain": [
       "['06-11-17_08.42 n10degC_Cycle_4_Pan18650PF',\n",
       " '06-10-17_11.25 n10degC_Cycle_1_Pan18650PF',\n",
       " '03-18-17_02.17 25degC_Cycle_1_Pan18650PF',\n",
       " '06-24-17_04.29 n20degC_Cycle_1_Pan18650PF',\n",
       " '06-07-17_08.39 n10degC_UDDS_Pan18650PF',\n",
       " '06-02-17_17.14 0degC_UDDS_Pan18650PF',\n",
       " '06-07-17_08.39 n10degC_LA92_Pan18650PF',\n",
       " '03-27-17_09.06 10degC_NN_Pan18650PF',\n",
       " '03-27-17_09.06 10degC_US06_HWFET_UDDS_LA92_NN_Pan18650PF',\n",
       " '06-24-17_19.29 n20degC_Cycle_3_Pan18650PF',\n",
       " '06-23-17_23.35 n20degC_LA92_Pan18650PF',\n",
       " '06-07-17_08.39 n10degC_US06_HWFET_UDDS_LA92_Pan18650PF',\n",
       " '06-01-17_10.36 0degC_NN_Pan18650PF',\n",
       " '05-30-17_12.56 0degC_Cycle_1_Pan18650PF',\n",
       " '06-25-17_10.31 n20degC_US06_Pan18650PF',\n",
       " '03-27-17_09.06 10degC_US06_Pan18650PF',\n",
       " '03-21-17_09.38 25degC_LA92_Pan18650PF',\n",
       " '03-27-17_09.06 10degC_HWFET_Pan18650PF',\n",
       " '06-23-17_23.35 n20degC_NN_Pan18650PF',\n",
       " '03-20-17_19.27 25degC_HWFTb_Pan18650PF',\n",
       " '06-07-17_08.39 n10degC_HWFET_Pan18650PF',\n",
       " '06-02-17_10.43 0degC_HWFET_Pan18650PF',\n",
       " '03-20-17_05.56 25degC_HWFTa_Pan18650PF',\n",
       " '03-27-17_09.06 10degC_LA92_Pan18650PF',\n",
       " '06-23-17_23.35 n20degC_UDDS_Pan18650PF',\n",
       " '04-05-17_17.04 10degC_Cycle_3_Pan18650PF',\n",
       " '06-25-17_03.01 n20degC_Cycle_4_Pan18650PF',\n",
       " '06-02-17_04.58 0degC_US06_Pan18650PF',\n",
       " '03-21-17_16.27 25degC_NN_Pan18650PF',\n",
       " '04-05-17_22.50 10degC_Cycle_4_Pan18650PF',\n",
       " '06-23-17_23.35 n20degC_HWFET_UDDS_LA92_NN_Pan18650PF',\n",
       " '03-21-17_00.29 25degC_UDDS_Pan18650PF',\n",
       " '03-27-17_09.06 10degC_UDDS_Pan18650PF',\n",
       " '03-19-17_14.31 25degC_Cycle_4_Pan18650PF',\n",
       " '05-30-17_20.16 0degC_Cycle_2_Pan18650PF',\n",
       " '06-14-17_13.12 n10degC_NN_Pan18650PF',\n",
       " '06-01-17_10.36 0degC_LA92_Pan18650PF',\n",
       " '06-24-17_11.58 n20degC_Cycle_2_Pan18650PF',\n",
       " '06-01-17_10.36 0degC_LA92_NN_Pan18650PF',\n",
       " '03-19-17_09.07 25degC_Cycle_3_Pan18650PF']"
      ]
     },
     "execution_count": 10,
     "metadata": {},
     "output_type": "execute_result"
    }
   ],
   "source": [
    "train_set"
   ]
  },
  {
   "cell_type": "code",
   "execution_count": 11,
   "metadata": {},
   "outputs": [
    {
     "data": {
      "text/plain": [
       "['03-20-17_01.43 25degC_US06_Pan18650PF',\n",
       " '06-23-17_23.35 n20degC_HWFET_Pan18650PF',\n",
       " '06-01-17_15.36 0degC_Cycle_3_Pan18650PF',\n",
       " '06-11-17_01.39 n10degC_Cycle_3_Pan18650PF',\n",
       " '03-19-17_03.25 25degC_Cycle_2_Pan18650PF',\n",
       " '06-10-17_18.35 n10degC_Cycle_2_Pan18650PF',\n",
       " '03-28-17_18.18 10degC_Cycle_2_Pan18650PF',\n",
       " '03-28-17_12.51 10degC_Cycle_1_Pan18650PF',\n",
       " '06-07-17_08.39 n10degC_US06_Pan18650PF',\n",
       " '06-01-17_22.03 0degC_Cycle_4_Pan18650PF']"
      ]
     },
     "execution_count": 11,
     "metadata": {},
     "output_type": "execute_result"
    }
   ],
   "source": [
    "test_set"
   ]
  },
  {
   "cell_type": "code",
   "execution_count": 12,
   "metadata": {},
   "outputs": [],
   "source": [
    "import os\n",
    "\n",
    "import tensorflow as tf\n",
    "from tensorflow import keras\n"
   ]
  },
  {
   "cell_type": "code",
   "execution_count": 14,
   "metadata": {},
   "outputs": [],
   "source": [
    "from keras.models import load_model\n",
    "model = load_model(r\"C:\\Users\\Harpreet Singh\\Desktop\\TransferLearning_SOC-main\\artifacts\\model_trainer\\Calce_1157\\Calce_1157.h5\")"
   ]
  },
  {
   "cell_type": "code",
   "execution_count": 15,
   "metadata": {},
   "outputs": [
    {
     "name": "stdout",
     "output_type": "stream",
     "text": [
      "Model: \"sequential\"\n",
      "_________________________________________________________________\n",
      " Layer (type)                Output Shape              Param #   \n",
      "=================================================================\n",
      " bidirectional (Bidirection  (None, 30, 48)            5376      \n",
      " al)                                                             \n",
      "                                                                 \n",
      " bidirectional_1 (Bidirecti  (None, 30, 24)            5856      \n",
      " onal)                                                           \n",
      "                                                                 \n",
      " bidirectional_2 (Bidirecti  (None, 24)                3552      \n",
      " onal)                                                           \n",
      "                                                                 \n",
      " dense (Dense)               (None, 24)                600       \n",
      "                                                                 \n",
      " dense_1 (Dense)             (None, 32)                800       \n",
      "                                                                 \n",
      " dense_2 (Dense)             (None, 1)                 33        \n",
      "                                                                 \n",
      "=================================================================\n",
      "Total params: 16217 (63.35 KB)\n",
      "Trainable params: 16217 (63.35 KB)\n",
      "Non-trainable params: 0 (0.00 Byte)\n",
      "_________________________________________________________________\n"
     ]
    }
   ],
   "source": [
    "model.summary() "
   ]
  },
  {
   "cell_type": "code",
   "execution_count": 4,
   "metadata": {},
   "outputs": [
    {
     "name": "stdout",
     "output_type": "stream",
     "text": [
      "Files in the directory:\n",
      "B0005_discharge.xlsx\n",
      "B0005_impedance.xlsx\n",
      "B0006_discharge.xlsx\n",
      "B0006_impedance.xlsx\n",
      "B0007_discharge.xlsx\n",
      "B0007_impedance.xlsx\n",
      "B0018_discharge.xlsx\n",
      "B0018_impedance.xlsx\n",
      "B0025_discharge.xlsx\n",
      "B0025_impedance.xlsx\n",
      "B0026_discharge.xlsx\n",
      "B0026_impedance.xlsx\n",
      "B0027_discharge.xlsx\n",
      "B0027_impedance.xlsx\n",
      "B0028_discharge.xlsx\n",
      "B0028_impedance.xlsx\n",
      "B0029_discharge.xlsx\n",
      "B0029_impedance.xlsx\n",
      "B0030_discharge.xlsx\n",
      "B0030_impedance.xlsx\n",
      "B0031_discharge.xlsx\n",
      "B0031_impedance.xlsx\n",
      "B0032_discharge.xlsx\n",
      "B0032_impedance.xlsx\n",
      "B0033_discharge.xlsx\n",
      "B0033_impedance.xlsx\n",
      "B0034_discharge.xlsx\n",
      "B0034_impedance.xlsx\n",
      "B0036_discharge.xlsx\n",
      "B0036_impedance.xlsx\n",
      "B0038_discharge.xlsx\n",
      "B0038_impedance.xlsx\n",
      "B0039_discharge.xlsx\n",
      "B0039_impedance.xlsx\n",
      "B0040_discharge.xlsx\n",
      "B0040_impedance.xlsx\n",
      "B0041_discharge.xlsx\n",
      "B0041_impedance.xlsx\n",
      "B0042_discharge.xlsx\n",
      "B0042_impedance.xlsx\n",
      "B0043_discharge.xlsx\n",
      "B0043_impedance.xlsx\n",
      "B0044_discharge.xlsx\n",
      "B0044_impedance.xlsx\n",
      "B0045_discharge.xlsx\n",
      "B0045_impedance.xlsx\n",
      "B0046_discharge.xlsx\n",
      "B0046_impedance.xlsx\n",
      "B0047_discharge.xlsx\n",
      "B0047_impedance.xlsx\n",
      "B0048_discharge.xlsx\n",
      "B0048_impedance.xlsx\n",
      "B0049_discharge.xlsx\n",
      "B0049_impedance.xlsx\n"
     ]
    }
   ],
   "source": [
    "import os\n",
    "\n",
    "def get_file_names(directory_path):\n",
    "    file_names = []\n",
    "    \n",
    "    # Check if the directory exists\n",
    "    if os.path.exists(directory_path):\n",
    "        # Get all files in the directory\n",
    "        files = os.listdir(directory_path)\n",
    "        \n",
    "        # Filter out directories, leaving only files\n",
    "        file_names = [file for file in files if os.path.isfile(os.path.join(directory_path, file))]\n",
    "    \n",
    "    return file_names\n",
    "\n",
    "# Example usage\n",
    "directory_path = r'artifacts\\data_ingestion\\NASA\\Discharge and Impedance'\n",
    "file_list = get_file_names(directory_path)\n",
    "\n",
    "print(\"Files in the directory:\")\n",
    "for file_name in file_list:\n",
    "    print(file_name)"
   ]
  },
  {
   "cell_type": "code",
   "execution_count": 11,
   "metadata": {},
   "outputs": [],
   "source": [
    "import os\n",
    "\n",
    "def get_file_names_without_extension(directory_path):\n",
    "    file_names_without_extension = []\n",
    "    \n",
    "    # Check if the directory exists\n",
    "    if os.path.exists(directory_path):\n",
    "        # Get all files in the directory\n",
    "        files = os.listdir(directory_path)\n",
    "        \n",
    "        # Filter out directories, leaving only files\n",
    "        files = [file for file in files if os.path.isfile(os.path.join(directory_path, file))]\n",
    "        \n",
    "        # Extract file names without extensions\n",
    "        file_names_without_extension = [os.path.splitext(file)[0] for file in files]\n",
    "    \n",
    "    return file_names_without_extension\n",
    "\n",
    "# Example usage\n",
    "directory_path =  r'artifacts\\data_ingestion\\NASA'\n",
    "file_list_without_extension = get_file_names_without_extension(directory_path)\n",
    "\n"
   ]
  },
  {
   "cell_type": "code",
   "execution_count": 12,
   "metadata": {},
   "outputs": [
    {
     "data": {
      "text/plain": [
       "['B0005_discharge',\n",
       " 'B0006_discharge',\n",
       " 'B0007_discharge',\n",
       " 'B0018_discharge',\n",
       " 'B0025_discharge',\n",
       " 'B0026_discharge',\n",
       " 'B0027_discharge',\n",
       " 'B0028_discharge',\n",
       " 'B0029_discharge',\n",
       " 'B0030_discharge',\n",
       " 'B0031_discharge',\n",
       " 'B0032_discharge',\n",
       " 'B0033_discharge',\n",
       " 'B0034_discharge',\n",
       " 'B0036_discharge',\n",
       " 'B0038_discharge',\n",
       " 'B0039_discharge',\n",
       " 'B0040_discharge',\n",
       " 'B0041_discharge',\n",
       " 'B0042_discharge',\n",
       " 'B0043_discharge',\n",
       " 'B0044_discharge',\n",
       " 'B0045_discharge',\n",
       " 'B0046_discharge',\n",
       " 'B0047_discharge',\n",
       " 'B0048_discharge',\n",
       " 'B0049_discharge']"
      ]
     },
     "execution_count": 12,
     "metadata": {},
     "output_type": "execute_result"
    }
   ],
   "source": [
    "file_list_without_extension"
   ]
  },
  {
   "cell_type": "code",
   "execution_count": 15,
   "metadata": {},
   "outputs": [
    {
     "name": "stdout",
     "output_type": "stream",
     "text": [
      "Train set length: 16\n",
      "Test set length: 11\n"
     ]
    }
   ],
   "source": [
    "from sklearn.model_selection import train_test_split\n",
    "import random\n",
    "# Assuming combined_list contains your shuffled data\n",
    "# Set the test size according to your needs, here it's set to 20%\n",
    "test_size = 0.4\n",
    "\n",
    "random.shuffle(file_list_without_extension)\n",
    "\n",
    "# Split the data into train and test sets\n",
    "train_set, test_set = train_test_split(file_list_without_extension, test_size=test_size, random_state=42)\n",
    "\n",
    "# Print the lengths of the train and test sets\n",
    "print(\"Train set length:\", len(train_set))\n",
    "print(\"Test set length:\", len(test_set))"
   ]
  },
  {
   "cell_type": "code",
   "execution_count": 17,
   "metadata": {},
   "outputs": [
    {
     "data": {
      "text/plain": [
       "['B0038_discharge',\n",
       " 'B0047_discharge',\n",
       " 'B0018_discharge',\n",
       " 'B0026_discharge',\n",
       " 'B0043_discharge',\n",
       " 'B0032_discharge',\n",
       " 'B0005_discharge',\n",
       " 'B0025_discharge',\n",
       " 'B0006_discharge',\n",
       " 'B0028_discharge',\n",
       " 'B0044_discharge']"
      ]
     },
     "execution_count": 17,
     "metadata": {},
     "output_type": "execute_result"
    }
   ],
   "source": [
    "test_set"
   ]
  },
  {
   "cell_type": "code",
   "execution_count": 9,
   "metadata": {},
   "outputs": [
    {
     "name": "stderr",
     "output_type": "stream",
     "text": [
      "Downloading...\n",
      "From: https://drive.google.com/uc?id=1fAQQ9AAV1pmYjaTdVV7GXLleQkGf8Wp6\n",
      "To: c:\\Users\\Harpreet Singh\\Documents\\Machine Learning\\TransferLearning_SOC\\your_file_name.zip\n",
      "\n",
      "\u001b[A\n",
      "\u001b[A\n",
      "100%|██████████| 5.66M/5.66M [00:00<00:00, 26.5MB/s]\n"
     ]
    },
    {
     "name": "stdout",
     "output_type": "stream",
     "text": [
      "Downloaded and extracted the contents to your_extraction_path\n"
     ]
    }
   ],
   "source": [
    "import gdown\n",
    "import zipfile\n",
    "import os\n",
    "\n",
    "def download_file_from_google_drive(file_id, dest_path):\n",
    "    url = f'https://drive.google.com/uc?id={file_id}'\n",
    "    gdown.download(url, dest_path, quiet=False)\n",
    "\n",
    "def extract_zip(zip_path, extract_path):\n",
    "    with zipfile.ZipFile(zip_path, 'r') as zip_ref:\n",
    "        zip_ref.extractall(extract_path)\n",
    "\n",
    "if __name__ == \"__main__\":\n",
    "    file_id = '1fAQQ9AAV1pmYjaTdVV7GXLleQkGf8Wp6'\n",
    "    zip_file_name = 'your_file_name.zip'\n",
    "    extract_path = 'your_extraction_path'\n",
    "\n",
    "    download_file_from_google_drive(file_id, zip_file_name)\n",
    "    extract_zip(zip_file_name, extract_path)\n",
    "\n",
    "    print(f\"Downloaded and extracted the contents to {extract_path}\")\n"
   ]
  }
 ],
 "metadata": {
  "kernelspec": {
   "display_name": "Python 3",
   "language": "python",
   "name": "python3"
  },
  "language_info": {
   "codemirror_mode": {
    "name": "ipython",
    "version": 3
   },
   "file_extension": ".py",
   "mimetype": "text/x-python",
   "name": "python",
   "nbconvert_exporter": "python",
   "pygments_lexer": "ipython3",
   "version": "3.8.10"
  }
 },
 "nbformat": 4,
 "nbformat_minor": 2
}
