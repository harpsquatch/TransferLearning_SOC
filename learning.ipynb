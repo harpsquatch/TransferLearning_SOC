{
 "cells": [
  {
   "cell_type": "code",
   "execution_count": 12,
   "metadata": {},
   "outputs": [],
   "source": [
    "import os\n",
    "from urllib.parse import urlparse\n",
    "import urllib.request as request\n",
    "Calce_source_URL =  \"https://www.kaggle.com/datasets/harpree/calce-battery-data/download?datasetVersionNumber=1\"\n",
    "\n",
    "parts = Calce_source_URL.split(\"_\")"
   ]
  },
  {
   "cell_type": "code",
   "execution_count": 21,
   "metadata": {},
   "outputs": [
    {
     "name": "stdout",
     "output_type": "stream",
     "text": [
      "['true', 'false']\n"
     ]
    }
   ],
   "source": [
    "train_names = {'ABC': ['yes', 'no'], 'CDF': ['true', 'false']}\n",
    "training_dataset = 'CDF'\n",
    "\n",
    "# Check if the training_dataset is a key in train_names\n",
    "if training_dataset in train_names:\n",
    "    train_entry = train_names[training_dataset]\n",
    "    # Now train_entry is the list ['yes', 'no']\n",
    "    # If you want to convert it to a list, you can do that directly\n",
    "    train_names_list = list(train_entry)\n",
    "    print(train_names_list)\n",
    "else:\n",
    "    print(f\"{training_dataset} not found in train_names\")"
   ]
  },
  {
   "cell_type": "code",
   "execution_count": 30,
   "metadata": {},
   "outputs": [
    {
     "name": "stdout",
     "output_type": "stream",
     "text": [
      "{'CDF': ['true', 'false'], 'ABC': ['yes', 'no']}\n"
     ]
    }
   ],
   "source": []
  },
  {
   "cell_type": "code",
   "execution_count": 4,
   "metadata": {},
   "outputs": [
    {
     "name": "stdout",
     "output_type": "stream",
     "text": [
      "['\\\\Train\\\\TBJDST_050']\n"
     ]
    }
   ],
   "source": [
    "from box import ConfigBox\n",
    "from box import Box, BoxList\n",
    "train_names = {'ABC': ['yes', 'no'], 'Calce': ['\\\\Train\\\\TBJDST_050']}\n",
    "training_datasets = ['CDF', 'Calce']\n",
    "\n",
    "result_dict = {dataset: train_names.get(dataset, f\"{dataset} not found in train_names\") for dataset in training_datasets}\n",
    "\n",
    "d2 = ConfigBox(result_dict)\n",
    "\n",
    "# Access the value associated with 'CDF' using dot notation\n",
    "print(d2.Calce)\n"
   ]
  },
  {
   "cell_type": "code",
   "execution_count": 39,
   "metadata": {},
   "outputs": [],
   "source": [
    "source_model_name = ['modelCacle','modelLG']\n",
    "pretrained_model_path_dictionary =  {'modelCacle': 'artifacts/data_ingestion/CALCE', 'modelLG': 'artifacts/data_ingestion/LG'}\n",
    "filtered_dictionary = {model: pretrained_model_path_dictionary.get(model, f\"{model} not found in train_names\") for model in source_model_name}\n",
    "\n",
    "\n",
    "d2 = ConfigBox(filtered_dictionary)\n",
    "\n",
    "pretrained_model_path = [ ]\n",
    "for model_name in source_model_name:\n",
    "    model_path = getattr(d2, model_name, f\"{model_name} not found in ConfigBox\")\n",
    "    pretrained_model_path.append(model_path)"
   ]
  },
  {
   "cell_type": "code",
   "execution_count": 40,
   "metadata": {},
   "outputs": [
    {
     "data": {
      "text/plain": [
       "['artifacts/data_ingestion/CALCE', 'artifacts/data_ingestion/LG']"
      ]
     },
     "execution_count": 40,
     "metadata": {},
     "output_type": "execute_result"
    }
   ],
   "source": [
    "pretrained_model_path"
   ]
  }
 ],
 "metadata": {
  "kernelspec": {
   "display_name": "Python 3",
   "language": "python",
   "name": "python3"
  },
  "language_info": {
   "codemirror_mode": {
    "name": "ipython",
    "version": 3
   },
   "file_extension": ".py",
   "mimetype": "text/x-python",
   "name": "python",
   "nbconvert_exporter": "python",
   "pygments_lexer": "ipython3",
   "version": "3.8.10"
  }
 },
 "nbformat": 4,
 "nbformat_minor": 2
}
